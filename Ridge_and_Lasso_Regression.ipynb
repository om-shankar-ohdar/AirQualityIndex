{
 "cells": [
  {
   "cell_type": "code",
   "execution_count": 1,
   "metadata": {},
   "outputs": [],
   "source": [
    "import pandas as pd\n",
    "import numpy as np\n",
    "import matplotlib.pyplot as plt\n",
    "import seaborn as sns"
   ]
  },
  {
   "cell_type": "code",
   "execution_count": 3,
   "metadata": {},
   "outputs": [],
   "source": [
    "df=pd.read_csv('FinalData.csv')\n",
    "X=df.iloc[:,:-1]\n",
    "y=df.iloc[:,-1]"
   ]
  },
  {
   "cell_type": "code",
   "execution_count": 4,
   "metadata": {},
   "outputs": [],
   "source": [
    "# Train test split\n",
    "from sklearn.model_selection import train_test_split\n",
    "X_train, X_test, y_train, y_test = train_test_split(X, y, test_size=0.3, random_state=0)"
   ]
  },
  {
   "cell_type": "code",
   "execution_count": 5,
   "metadata": {},
   "outputs": [
    {
     "name": "stdout",
     "output_type": "stream",
     "text": [
      "-3283.5970624064526\n"
     ]
    }
   ],
   "source": [
    "# Linear Regression\n",
    "from sklearn.model_selection import cross_val_score\n",
    "from sklearn.linear_model import LinearRegression\n",
    "\n",
    "# Get cross-validation score\n",
    "linRegressorModel = LinearRegression()\n",
    "mse=cross_val_score(linRegressorModel,X,y,scoring='neg_mean_squared_error',cv=5)\n",
    "mean_mse=np.mean(mse)\n",
    "print(mean_mse)"
   ]
  },
  {
   "cell_type": "code",
   "execution_count": 14,
   "metadata": {},
   "outputs": [
    {
     "name": "stdout",
     "output_type": "stream",
     "text": [
      "{'alpha': 70}\n",
      "-3224.8012863031595\n"
     ]
    }
   ],
   "source": [
    "# Ridge Regression\n",
    "from sklearn.linear_model import Ridge\n",
    "from sklearn.model_selection import GridSearchCV\n",
    "\n",
    "ridgeModel = Ridge()\n",
    "parameters={'alpha':[1e-3,1e-2,1,5,10,20,30,35,40, 60, 70, 100]}\n",
    "ridgeRegressor=GridSearchCV(ridgeModel,parameters,scoring='neg_mean_squared_error',cv=5)\n",
    "ridgeRegressor.fit(X,y)\n",
    "\n",
    "# Best Lamda value\n",
    "print(ridgeRegressor.best_params_)\n",
    "# Cross-validation value\n",
    "print(ridgeRegressor.best_score_)"
   ]
  },
  {
   "cell_type": "code",
   "execution_count": 15,
   "metadata": {},
   "outputs": [
    {
     "name": "stdout",
     "output_type": "stream",
     "text": [
      "{'alpha': 70}\n",
      "-3224.8012863031595\n"
     ]
    }
   ],
   "source": [
    "# Lasso Regression\n",
    "from sklearn.linear_model import Lasso\n",
    "from sklearn.model_selection import GridSearchCV\n",
    "\n",
    "lassoModel = Ridge()\n",
    "parameters={'alpha':[1e-3,1e-2,1,5,10,20,30,35,40, 50, 60, 70, 100]}\n",
    "lassoRegressor=GridSearchCV(lassoModel,parameters,scoring='neg_mean_squared_error',cv=5)\n",
    "lassoRegressor.fit(X,y)\n",
    "\n",
    "# Best Lamda value\n",
    "print(lassoRegressor.best_params_)\n",
    "# Cross-validation value\n",
    "print(lassoRegressor.best_score_)"
   ]
  },
  {
   "cell_type": "code",
   "execution_count": 16,
   "metadata": {},
   "outputs": [
    {
     "name": "stdout",
     "output_type": "stream",
     "text": [
      "Ridge:\n",
      "MAE: 38.03027004823222\n",
      "MSE: 2768.764684511096\n",
      "RMSE: 52.61905248587337\n",
      "Lasso:\n",
      "MAE: 38.03027004823222\n",
      "MSE: 2768.764684511096\n",
      "RMSE: 52.61905248587337\n"
     ]
    }
   ],
   "source": [
    "from sklearn import metrics\n",
    "\n",
    "# Ridge Evaluation\n",
    "prediction=ridgeRegressor.predict(X_test)\n",
    "print('Ridge:')\n",
    "print('MAE:', metrics.mean_absolute_error(y_test, prediction))\n",
    "print('MSE:', metrics.mean_squared_error(y_test, prediction))\n",
    "print('RMSE:', np.sqrt(metrics.mean_squared_error(y_test, prediction)))\n",
    "\n",
    "# Ridge Evaluation\n",
    "prediction=lassoRegressor.predict(X_test)\n",
    "print('Lasso:')\n",
    "print('MAE:', metrics.mean_absolute_error(y_test, prediction))\n",
    "print('MSE:', metrics.mean_squared_error(y_test, prediction))\n",
    "print('RMSE:', np.sqrt(metrics.mean_squared_error(y_test, prediction)))"
   ]
  },
  {
   "cell_type": "code",
   "execution_count": null,
   "metadata": {},
   "outputs": [],
   "source": []
  }
 ],
 "metadata": {
  "kernelspec": {
   "display_name": "Python 3",
   "language": "python",
   "name": "python3"
  },
  "language_info": {
   "codemirror_mode": {
    "name": "ipython",
    "version": 3
   },
   "file_extension": ".py",
   "mimetype": "text/x-python",
   "name": "python",
   "nbconvert_exporter": "python",
   "pygments_lexer": "ipython3",
   "version": "3.7.6"
  }
 },
 "nbformat": 4,
 "nbformat_minor": 4
}
