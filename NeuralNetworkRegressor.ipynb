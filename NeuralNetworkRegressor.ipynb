{
 "cells": [
  {
   "cell_type": "code",
   "execution_count": 1,
   "metadata": {},
   "outputs": [],
   "source": [
    "import pandas as pd\n",
    "import numpy as np\n",
    "import matplotlib.pyplot as plt\n",
    "import seaborn as sns"
   ]
  },
  {
   "cell_type": "code",
   "execution_count": 2,
   "metadata": {},
   "outputs": [],
   "source": [
    "df=pd.read_csv('FinalData.csv')"
   ]
  },
  {
   "cell_type": "code",
   "execution_count": 3,
   "metadata": {},
   "outputs": [],
   "source": [
    "X=df.iloc[:,:-1]\n",
    "y=df.iloc[:,-1]"
   ]
  },
  {
   "cell_type": "code",
   "execution_count": 4,
   "metadata": {},
   "outputs": [],
   "source": [
    "# Train test split\n",
    "from sklearn.model_selection import train_test_split\n",
    "X_train, X_test, y_train, y_test = train_test_split(X, y, test_size=0.3, random_state=0)"
   ]
  },
  {
   "cell_type": "markdown",
   "metadata": {},
   "source": [
    "# Neural Network"
   ]
  },
  {
   "cell_type": "code",
   "execution_count": 6,
   "metadata": {
    "collapsed": true
   },
   "outputs": [
    {
     "name": "stderr",
     "output_type": "stream",
     "text": [
      "Using TensorFlow backend.\n",
      "F:\\anaconda3\\lib\\site-packages\\tensorflow\\python\\framework\\dtypes.py:516: FutureWarning: Passing (type, 1) or '1type' as a synonym of type is deprecated; in a future version of numpy, it will be understood as (type, (1,)) / '(1,)type'.\n",
      "  _np_qint8 = np.dtype([(\"qint8\", np.int8, 1)])\n",
      "F:\\anaconda3\\lib\\site-packages\\tensorflow\\python\\framework\\dtypes.py:517: FutureWarning: Passing (type, 1) or '1type' as a synonym of type is deprecated; in a future version of numpy, it will be understood as (type, (1,)) / '(1,)type'.\n",
      "  _np_quint8 = np.dtype([(\"quint8\", np.uint8, 1)])\n",
      "F:\\anaconda3\\lib\\site-packages\\tensorflow\\python\\framework\\dtypes.py:518: FutureWarning: Passing (type, 1) or '1type' as a synonym of type is deprecated; in a future version of numpy, it will be understood as (type, (1,)) / '(1,)type'.\n",
      "  _np_qint16 = np.dtype([(\"qint16\", np.int16, 1)])\n",
      "F:\\anaconda3\\lib\\site-packages\\tensorflow\\python\\framework\\dtypes.py:519: FutureWarning: Passing (type, 1) or '1type' as a synonym of type is deprecated; in a future version of numpy, it will be understood as (type, (1,)) / '(1,)type'.\n",
      "  _np_quint16 = np.dtype([(\"quint16\", np.uint16, 1)])\n",
      "F:\\anaconda3\\lib\\site-packages\\tensorflow\\python\\framework\\dtypes.py:520: FutureWarning: Passing (type, 1) or '1type' as a synonym of type is deprecated; in a future version of numpy, it will be understood as (type, (1,)) / '(1,)type'.\n",
      "  _np_qint32 = np.dtype([(\"qint32\", np.int32, 1)])\n",
      "F:\\anaconda3\\lib\\site-packages\\tensorflow\\python\\framework\\dtypes.py:525: FutureWarning: Passing (type, 1) or '1type' as a synonym of type is deprecated; in a future version of numpy, it will be understood as (type, (1,)) / '(1,)type'.\n",
      "  np_resource = np.dtype([(\"resource\", np.ubyte, 1)])\n",
      "F:\\anaconda3\\lib\\site-packages\\tensorboard\\compat\\tensorflow_stub\\dtypes.py:541: FutureWarning: Passing (type, 1) or '1type' as a synonym of type is deprecated; in a future version of numpy, it will be understood as (type, (1,)) / '(1,)type'.\n",
      "  _np_qint8 = np.dtype([(\"qint8\", np.int8, 1)])\n",
      "F:\\anaconda3\\lib\\site-packages\\tensorboard\\compat\\tensorflow_stub\\dtypes.py:542: FutureWarning: Passing (type, 1) or '1type' as a synonym of type is deprecated; in a future version of numpy, it will be understood as (type, (1,)) / '(1,)type'.\n",
      "  _np_quint8 = np.dtype([(\"quint8\", np.uint8, 1)])\n",
      "F:\\anaconda3\\lib\\site-packages\\tensorboard\\compat\\tensorflow_stub\\dtypes.py:543: FutureWarning: Passing (type, 1) or '1type' as a synonym of type is deprecated; in a future version of numpy, it will be understood as (type, (1,)) / '(1,)type'.\n",
      "  _np_qint16 = np.dtype([(\"qint16\", np.int16, 1)])\n",
      "F:\\anaconda3\\lib\\site-packages\\tensorboard\\compat\\tensorflow_stub\\dtypes.py:544: FutureWarning: Passing (type, 1) or '1type' as a synonym of type is deprecated; in a future version of numpy, it will be understood as (type, (1,)) / '(1,)type'.\n",
      "  _np_quint16 = np.dtype([(\"quint16\", np.uint16, 1)])\n",
      "F:\\anaconda3\\lib\\site-packages\\tensorboard\\compat\\tensorflow_stub\\dtypes.py:545: FutureWarning: Passing (type, 1) or '1type' as a synonym of type is deprecated; in a future version of numpy, it will be understood as (type, (1,)) / '(1,)type'.\n",
      "  _np_qint32 = np.dtype([(\"qint32\", np.int32, 1)])\n",
      "F:\\anaconda3\\lib\\site-packages\\tensorboard\\compat\\tensorflow_stub\\dtypes.py:550: FutureWarning: Passing (type, 1) or '1type' as a synonym of type is deprecated; in a future version of numpy, it will be understood as (type, (1,)) / '(1,)type'.\n",
      "  np_resource = np.dtype([(\"resource\", np.ubyte, 1)])\n"
     ]
    }
   ],
   "source": [
    "# Importing the Keras libraries and packages\n",
    "import keras\n",
    "from keras.models import Sequential\n",
    "from keras.layers import Dense\n",
    "from keras.layers import LeakyReLU,PReLU,ELU\n",
    "from keras.layers import Dropout"
   ]
  },
  {
   "cell_type": "code",
   "execution_count": 16,
   "metadata": {},
   "outputs": [
    {
     "name": "stdout",
     "output_type": "stream",
     "text": [
      "Model: \"sequential_4\"\n",
      "_________________________________________________________________\n",
      "Layer (type)                 Output Shape              Param #   \n",
      "=================================================================\n",
      "dense_16 (Dense)             (None, 128)               1280      \n",
      "_________________________________________________________________\n",
      "dense_17 (Dense)             (None, 256)               33024     \n",
      "_________________________________________________________________\n",
      "dense_18 (Dense)             (None, 512)               131584    \n",
      "_________________________________________________________________\n",
      "dense_19 (Dense)             (None, 128)               65664     \n",
      "_________________________________________________________________\n",
      "dense_20 (Dense)             (None, 1)                 129       \n",
      "=================================================================\n",
      "Total params: 231,681\n",
      "Trainable params: 231,681\n",
      "Non-trainable params: 0\n",
      "_________________________________________________________________\n"
     ]
    },
    {
     "name": "stderr",
     "output_type": "stream",
     "text": [
      "F:\\anaconda3\\lib\\site-packages\\ipykernel_launcher.py:19: UserWarning: The `nb_epoch` argument in `fit` has been renamed `epochs`.\n"
     ]
    },
    {
     "name": "stdout",
     "output_type": "stream",
     "text": [
      "Train on 510 samples, validate on 252 samples\n",
      "Epoch 1/100\n",
      "510/510 [==============================] - 0s 690us/step - loss: 69.3005 - mean_absolute_error: 69.3005 - val_loss: 65.5234 - val_mean_absolute_error: 65.5234\n",
      "Epoch 2/100\n",
      "510/510 [==============================] - 0s 392us/step - loss: 66.4333 - mean_absolute_error: 66.4333 - val_loss: 63.5660 - val_mean_absolute_error: 63.5660\n",
      "Epoch 3/100\n",
      "510/510 [==============================] - 0s 369us/step - loss: 65.1266 - mean_absolute_error: 65.1266 - val_loss: 61.8895 - val_mean_absolute_error: 61.8895\n",
      "Epoch 4/100\n",
      "510/510 [==============================] - 0s 325us/step - loss: 62.9036 - mean_absolute_error: 62.9036 - val_loss: 59.8924 - val_mean_absolute_error: 59.8924\n",
      "Epoch 5/100\n",
      "510/510 [==============================] - 0s 330us/step - loss: 58.0308 - mean_absolute_error: 58.0308 - val_loss: 52.5640 - val_mean_absolute_error: 52.5640\n",
      "Epoch 6/100\n",
      "510/510 [==============================] - 0s 321us/step - loss: 51.4267 - mean_absolute_error: 51.4267 - val_loss: 47.6236 - val_mean_absolute_error: 47.6236\n",
      "Epoch 7/100\n",
      "510/510 [==============================] - 0s 319us/step - loss: 47.7037 - mean_absolute_error: 47.7037 - val_loss: 49.2603 - val_mean_absolute_error: 49.2603\n",
      "Epoch 8/100\n",
      "510/510 [==============================] - 0s 315us/step - loss: 49.2325 - mean_absolute_error: 49.2325 - val_loss: 49.3205 - val_mean_absolute_error: 49.3205\n",
      "Epoch 9/100\n",
      "510/510 [==============================] - 0s 324us/step - loss: 46.9996 - mean_absolute_error: 46.9996 - val_loss: 50.5460 - val_mean_absolute_error: 50.5460\n",
      "Epoch 10/100\n",
      "510/510 [==============================] - 0s 318us/step - loss: 46.7368 - mean_absolute_error: 46.7368 - val_loss: 44.8848 - val_mean_absolute_error: 44.8848\n",
      "Epoch 11/100\n",
      "510/510 [==============================] - 0s 329us/step - loss: 45.2925 - mean_absolute_error: 45.2925 - val_loss: 45.5518 - val_mean_absolute_error: 45.5518\n",
      "Epoch 12/100\n",
      "510/510 [==============================] - 0s 325us/step - loss: 47.2837 - mean_absolute_error: 47.2837 - val_loss: 44.4572 - val_mean_absolute_error: 44.4572\n",
      "Epoch 13/100\n",
      "510/510 [==============================] - 0s 331us/step - loss: 45.1917 - mean_absolute_error: 45.1917 - val_loss: 45.6498 - val_mean_absolute_error: 45.6498\n",
      "Epoch 14/100\n",
      "510/510 [==============================] - 0s 331us/step - loss: 46.7075 - mean_absolute_error: 46.7075 - val_loss: 46.0462 - val_mean_absolute_error: 46.0462\n",
      "Epoch 15/100\n",
      "510/510 [==============================] - 0s 329us/step - loss: 45.6805 - mean_absolute_error: 45.6805 - val_loss: 43.6928 - val_mean_absolute_error: 43.6928\n",
      "Epoch 16/100\n",
      "510/510 [==============================] - 0s 303us/step - loss: 43.3470 - mean_absolute_error: 43.3470 - val_loss: 44.0412 - val_mean_absolute_error: 44.0412\n",
      "Epoch 17/100\n",
      "510/510 [==============================] - 0s 316us/step - loss: 46.7193 - mean_absolute_error: 46.7193 - val_loss: 47.4178 - val_mean_absolute_error: 47.4178\n",
      "Epoch 18/100\n",
      "510/510 [==============================] - 0s 315us/step - loss: 44.7135 - mean_absolute_error: 44.7135 - val_loss: 44.0765 - val_mean_absolute_error: 44.0765\n",
      "Epoch 19/100\n",
      "510/510 [==============================] - 0s 318us/step - loss: 42.9543 - mean_absolute_error: 42.9543 - val_loss: 45.7030 - val_mean_absolute_error: 45.7030\n",
      "Epoch 20/100\n",
      "510/510 [==============================] - 0s 300us/step - loss: 43.2018 - mean_absolute_error: 43.2018 - val_loss: 46.2517 - val_mean_absolute_error: 46.2517\n",
      "Epoch 21/100\n",
      "510/510 [==============================] - 0s 307us/step - loss: 43.1785 - mean_absolute_error: 43.1785 - val_loss: 43.7386 - val_mean_absolute_error: 43.7386\n",
      "Epoch 22/100\n",
      "510/510 [==============================] - 0s 322us/step - loss: 41.8973 - mean_absolute_error: 41.8973 - val_loss: 42.7891 - val_mean_absolute_error: 42.7891\n",
      "Epoch 23/100\n",
      "510/510 [==============================] - 0s 314us/step - loss: 41.8338 - mean_absolute_error: 41.8338 - val_loss: 45.2870 - val_mean_absolute_error: 45.2870\n",
      "Epoch 24/100\n",
      "510/510 [==============================] - 0s 306us/step - loss: 42.6880 - mean_absolute_error: 42.6880 - val_loss: 42.6883 - val_mean_absolute_error: 42.6883\n",
      "Epoch 25/100\n",
      "510/510 [==============================] - 0s 303us/step - loss: 41.3349 - mean_absolute_error: 41.3349 - val_loss: 47.8685 - val_mean_absolute_error: 47.8685\n",
      "Epoch 26/100\n",
      "510/510 [==============================] - 0s 315us/step - loss: 43.3725 - mean_absolute_error: 43.3725 - val_loss: 48.3834 - val_mean_absolute_error: 48.3834\n",
      "Epoch 27/100\n",
      "510/510 [==============================] - 0s 308us/step - loss: 43.6385 - mean_absolute_error: 43.6385 - val_loss: 46.2825 - val_mean_absolute_error: 46.2825\n",
      "Epoch 28/100\n",
      "510/510 [==============================] - 0s 311us/step - loss: 41.1691 - mean_absolute_error: 41.1691 - val_loss: 45.4511 - val_mean_absolute_error: 45.4511\n",
      "Epoch 29/100\n",
      "510/510 [==============================] - 0s 298us/step - loss: 42.3618 - mean_absolute_error: 42.3618 - val_loss: 42.2233 - val_mean_absolute_error: 42.2233\n",
      "Epoch 30/100\n",
      "510/510 [==============================] - 0s 299us/step - loss: 41.0032 - mean_absolute_error: 41.0032 - val_loss: 42.8144 - val_mean_absolute_error: 42.8144\n",
      "Epoch 31/100\n",
      "510/510 [==============================] - 0s 295us/step - loss: 41.6277 - mean_absolute_error: 41.6277 - val_loss: 42.5146 - val_mean_absolute_error: 42.5146\n",
      "Epoch 32/100\n",
      "510/510 [==============================] - 0s 310us/step - loss: 40.8644 - mean_absolute_error: 40.8644 - val_loss: 44.5146 - val_mean_absolute_error: 44.5146\n",
      "Epoch 33/100\n",
      "510/510 [==============================] - 0s 318us/step - loss: 41.8021 - mean_absolute_error: 41.8021 - val_loss: 42.4851 - val_mean_absolute_error: 42.4851\n",
      "Epoch 34/100\n",
      "510/510 [==============================] - 0s 312us/step - loss: 41.2089 - mean_absolute_error: 41.2090 - val_loss: 44.8807 - val_mean_absolute_error: 44.8807\n",
      "Epoch 35/100\n",
      "510/510 [==============================] - 0s 315us/step - loss: 41.1663 - mean_absolute_error: 41.1663 - val_loss: 46.9407 - val_mean_absolute_error: 46.9407\n",
      "Epoch 36/100\n",
      "510/510 [==============================] - 0s 306us/step - loss: 42.2396 - mean_absolute_error: 42.2396 - val_loss: 42.3389 - val_mean_absolute_error: 42.3389\n",
      "Epoch 37/100\n",
      "510/510 [==============================] - 0s 312us/step - loss: 41.4279 - mean_absolute_error: 41.4279 - val_loss: 44.0857 - val_mean_absolute_error: 44.0857\n",
      "Epoch 38/100\n",
      "510/510 [==============================] - 0s 314us/step - loss: 42.7051 - mean_absolute_error: 42.7051 - val_loss: 45.1758 - val_mean_absolute_error: 45.1758\n",
      "Epoch 39/100\n",
      "510/510 [==============================] - 0s 304us/step - loss: 41.8152 - mean_absolute_error: 41.8152 - val_loss: 44.4492 - val_mean_absolute_error: 44.4492\n",
      "Epoch 40/100\n",
      "510/510 [==============================] - 0s 316us/step - loss: 42.3794 - mean_absolute_error: 42.3794 - val_loss: 42.4789 - val_mean_absolute_error: 42.4789\n",
      "Epoch 41/100\n",
      "510/510 [==============================] - 0s 310us/step - loss: 39.4928 - mean_absolute_error: 39.4928 - val_loss: 43.9551 - val_mean_absolute_error: 43.9551\n",
      "Epoch 42/100\n",
      "510/510 [==============================] - 0s 305us/step - loss: 41.9839 - mean_absolute_error: 41.9839 - val_loss: 48.3291 - val_mean_absolute_error: 48.3291\n",
      "Epoch 43/100\n",
      "510/510 [==============================] - 0s 308us/step - loss: 43.1158 - mean_absolute_error: 43.1158 - val_loss: 46.3934 - val_mean_absolute_error: 46.3934\n",
      "Epoch 44/100\n",
      "510/510 [==============================] - 0s 303us/step - loss: 40.0609 - mean_absolute_error: 40.0609 - val_loss: 43.5354 - val_mean_absolute_error: 43.5354\n",
      "Epoch 45/100\n",
      "510/510 [==============================] - 0s 310us/step - loss: 40.1388 - mean_absolute_error: 40.1388 - val_loss: 44.9189 - val_mean_absolute_error: 44.9189\n",
      "Epoch 46/100\n",
      "510/510 [==============================] - 0s 319us/step - loss: 40.4301 - mean_absolute_error: 40.4301 - val_loss: 42.8357 - val_mean_absolute_error: 42.8357\n",
      "Epoch 47/100\n",
      "510/510 [==============================] - 0s 322us/step - loss: 41.9329 - mean_absolute_error: 41.9329 - val_loss: 47.7197 - val_mean_absolute_error: 47.7196\n",
      "Epoch 48/100\n"
     ]
    },
    {
     "name": "stdout",
     "output_type": "stream",
     "text": [
      "510/510 [==============================] - 0s 291us/step - loss: 44.0435 - mean_absolute_error: 44.0435 - val_loss: 45.0809 - val_mean_absolute_error: 45.0809\n",
      "Epoch 49/100\n",
      "510/510 [==============================] - 0s 317us/step - loss: 39.5785 - mean_absolute_error: 39.5785 - val_loss: 44.8444 - val_mean_absolute_error: 44.8444\n",
      "Epoch 50/100\n",
      "510/510 [==============================] - 0s 307us/step - loss: 40.0332 - mean_absolute_error: 40.0332 - val_loss: 47.2975 - val_mean_absolute_error: 47.2975\n",
      "Epoch 51/100\n",
      "510/510 [==============================] - 0s 276us/step - loss: 42.5126 - mean_absolute_error: 42.5126 - val_loss: 45.5639 - val_mean_absolute_error: 45.5639\n",
      "Epoch 52/100\n",
      "510/510 [==============================] - 0s 286us/step - loss: 41.1881 - mean_absolute_error: 41.1881 - val_loss: 47.9950 - val_mean_absolute_error: 47.9950\n",
      "Epoch 53/100\n",
      "510/510 [==============================] - 0s 307us/step - loss: 41.0084 - mean_absolute_error: 41.0084 - val_loss: 43.1311 - val_mean_absolute_error: 43.1311\n",
      "Epoch 54/100\n",
      "510/510 [==============================] - 0s 309us/step - loss: 40.6800 - mean_absolute_error: 40.6800 - val_loss: 44.2334 - val_mean_absolute_error: 44.2334\n",
      "Epoch 55/100\n",
      "510/510 [==============================] - 0s 298us/step - loss: 41.4922 - mean_absolute_error: 41.4922 - val_loss: 45.7673 - val_mean_absolute_error: 45.7673\n",
      "Epoch 56/100\n",
      "510/510 [==============================] - 0s 306us/step - loss: 40.1008 - mean_absolute_error: 40.1008 - val_loss: 43.6391 - val_mean_absolute_error: 43.6391\n",
      "Epoch 57/100\n",
      "510/510 [==============================] - 0s 305us/step - loss: 39.8874 - mean_absolute_error: 39.8874 - val_loss: 43.0294 - val_mean_absolute_error: 43.0294\n",
      "Epoch 58/100\n",
      "510/510 [==============================] - 0s 302us/step - loss: 39.4375 - mean_absolute_error: 39.4375 - val_loss: 45.1230 - val_mean_absolute_error: 45.1230\n",
      "Epoch 59/100\n",
      "510/510 [==============================] - 0s 316us/step - loss: 39.8956 - mean_absolute_error: 39.8956 - val_loss: 43.3918 - val_mean_absolute_error: 43.3918\n",
      "Epoch 60/100\n",
      "510/510 [==============================] - 0s 316us/step - loss: 39.4205 - mean_absolute_error: 39.4205 - val_loss: 42.6013 - val_mean_absolute_error: 42.6013\n",
      "Epoch 61/100\n",
      "510/510 [==============================] - 0s 313us/step - loss: 40.4676 - mean_absolute_error: 40.4676 - val_loss: 42.2567 - val_mean_absolute_error: 42.2567\n",
      "Epoch 62/100\n",
      "510/510 [==============================] - 0s 299us/step - loss: 39.9636 - mean_absolute_error: 39.9636 - val_loss: 41.6453 - val_mean_absolute_error: 41.6453\n",
      "Epoch 63/100\n",
      "510/510 [==============================] - 0s 306us/step - loss: 38.7281 - mean_absolute_error: 38.7280 - val_loss: 42.4638 - val_mean_absolute_error: 42.4638\n",
      "Epoch 64/100\n",
      "510/510 [==============================] - 0s 300us/step - loss: 39.9342 - mean_absolute_error: 39.9342 - val_loss: 42.7143 - val_mean_absolute_error: 42.7143\n",
      "Epoch 65/100\n",
      "510/510 [==============================] - 0s 310us/step - loss: 39.4955 - mean_absolute_error: 39.4955 - val_loss: 41.4313 - val_mean_absolute_error: 41.4313\n",
      "Epoch 66/100\n",
      "510/510 [==============================] - 0s 306us/step - loss: 39.5211 - mean_absolute_error: 39.5211 - val_loss: 41.3873 - val_mean_absolute_error: 41.3873\n",
      "Epoch 67/100\n",
      "510/510 [==============================] - 0s 311us/step - loss: 38.9859 - mean_absolute_error: 38.9859 - val_loss: 41.8704 - val_mean_absolute_error: 41.8704\n",
      "Epoch 68/100\n",
      "510/510 [==============================] - 0s 349us/step - loss: 39.0041 - mean_absolute_error: 39.0041 - val_loss: 42.1692 - val_mean_absolute_error: 42.1692\n",
      "Epoch 69/100\n",
      "510/510 [==============================] - 0s 340us/step - loss: 40.5693 - mean_absolute_error: 40.5693 - val_loss: 51.5710 - val_mean_absolute_error: 51.5710\n",
      "Epoch 70/100\n",
      "510/510 [==============================] - 0s 322us/step - loss: 40.8041 - mean_absolute_error: 40.8041 - val_loss: 42.9644 - val_mean_absolute_error: 42.9644\n",
      "Epoch 71/100\n",
      "510/510 [==============================] - 0s 313us/step - loss: 38.8524 - mean_absolute_error: 38.8524 - val_loss: 45.6030 - val_mean_absolute_error: 45.6030\n",
      "Epoch 72/100\n",
      "510/510 [==============================] - 0s 319us/step - loss: 39.2570 - mean_absolute_error: 39.2570 - val_loss: 42.1990 - val_mean_absolute_error: 42.1990\n",
      "Epoch 73/100\n",
      "510/510 [==============================] - 0s 286us/step - loss: 41.6043 - mean_absolute_error: 41.6043 - val_loss: 44.1904 - val_mean_absolute_error: 44.1904\n",
      "Epoch 74/100\n",
      "510/510 [==============================] - 0s 315us/step - loss: 39.9161 - mean_absolute_error: 39.9161 - val_loss: 43.1246 - val_mean_absolute_error: 43.1246\n",
      "Epoch 75/100\n",
      "510/510 [==============================] - 0s 335us/step - loss: 40.2425 - mean_absolute_error: 40.2425 - val_loss: 44.5752 - val_mean_absolute_error: 44.5752\n",
      "Epoch 76/100\n",
      "510/510 [==============================] - 0s 331us/step - loss: 40.2787 - mean_absolute_error: 40.2787 - val_loss: 41.8685 - val_mean_absolute_error: 41.8685\n",
      "Epoch 77/100\n",
      "510/510 [==============================] - 0s 326us/step - loss: 39.4648 - mean_absolute_error: 39.4648 - val_loss: 42.7742 - val_mean_absolute_error: 42.7742\n",
      "Epoch 78/100\n",
      "510/510 [==============================] - 0s 289us/step - loss: 38.0709 - mean_absolute_error: 38.0709 - val_loss: 42.9514 - val_mean_absolute_error: 42.9514\n",
      "Epoch 79/100\n",
      "510/510 [==============================] - 0s 285us/step - loss: 38.5926 - mean_absolute_error: 38.5926 - val_loss: 45.5671 - val_mean_absolute_error: 45.5672\n",
      "Epoch 80/100\n",
      "510/510 [==============================] - 0s 300us/step - loss: 39.2723 - mean_absolute_error: 39.2723 - val_loss: 41.2813 - val_mean_absolute_error: 41.2813\n",
      "Epoch 81/100\n",
      "510/510 [==============================] - 0s 302us/step - loss: 38.6038 - mean_absolute_error: 38.6038 - val_loss: 41.1650 - val_mean_absolute_error: 41.1650\n",
      "Epoch 82/100\n",
      "510/510 [==============================] - 0s 313us/step - loss: 40.2867 - mean_absolute_error: 40.2867 - val_loss: 45.5311 - val_mean_absolute_error: 45.5311\n",
      "Epoch 83/100\n",
      "510/510 [==============================] - 0s 307us/step - loss: 40.7873 - mean_absolute_error: 40.7873 - val_loss: 43.4973 - val_mean_absolute_error: 43.4973\n",
      "Epoch 84/100\n",
      "510/510 [==============================] - 0s 310us/step - loss: 39.8868 - mean_absolute_error: 39.8868 - val_loss: 42.3834 - val_mean_absolute_error: 42.3834\n",
      "Epoch 85/100\n",
      "510/510 [==============================] - 0s 308us/step - loss: 40.5473 - mean_absolute_error: 40.5473 - val_loss: 42.1184 - val_mean_absolute_error: 42.1184\n",
      "Epoch 86/100\n",
      "510/510 [==============================] - 0s 313us/step - loss: 39.0154 - mean_absolute_error: 39.0154 - val_loss: 47.0044 - val_mean_absolute_error: 47.0044\n",
      "Epoch 87/100\n",
      "510/510 [==============================] - 0s 309us/step - loss: 39.4906 - mean_absolute_error: 39.4906 - val_loss: 41.0922 - val_mean_absolute_error: 41.0922\n",
      "Epoch 88/100\n",
      "510/510 [==============================] - 0s 285us/step - loss: 37.7196 - mean_absolute_error: 37.7196 - val_loss: 42.1688 - val_mean_absolute_error: 42.1688\n",
      "Epoch 89/100\n",
      "510/510 [==============================] - 0s 304us/step - loss: 38.9565 - mean_absolute_error: 38.9565 - val_loss: 42.0560 - val_mean_absolute_error: 42.0560\n",
      "Epoch 90/100\n",
      "510/510 [==============================] - 0s 305us/step - loss: 39.9424 - mean_absolute_error: 39.9424 - val_loss: 42.9775 - val_mean_absolute_error: 42.9775\n",
      "Epoch 91/100\n",
      "510/510 [==============================] - 0s 310us/step - loss: 38.0514 - mean_absolute_error: 38.0514 - val_loss: 41.4126 - val_mean_absolute_error: 41.4126\n",
      "Epoch 92/100\n",
      "510/510 [==============================] - 0s 305us/step - loss: 38.6635 - mean_absolute_error: 38.6635 - val_loss: 41.7693 - val_mean_absolute_error: 41.7693\n",
      "Epoch 93/100\n",
      "510/510 [==============================] - 0s 309us/step - loss: 38.7603 - mean_absolute_error: 38.7603 - val_loss: 41.3879 - val_mean_absolute_error: 41.3879\n",
      "Epoch 94/100\n",
      "510/510 [==============================] - 0s 301us/step - loss: 38.2107 - mean_absolute_error: 38.2107 - val_loss: 41.5900 - val_mean_absolute_error: 41.5900\n",
      "Epoch 95/100\n",
      "510/510 [==============================] - 0s 301us/step - loss: 38.4629 - mean_absolute_error: 38.4629 - val_loss: 42.6347 - val_mean_absolute_error: 42.6347\n"
     ]
    },
    {
     "name": "stdout",
     "output_type": "stream",
     "text": [
      "Epoch 96/100\n",
      "510/510 [==============================] - 0s 303us/step - loss: 38.4803 - mean_absolute_error: 38.4803 - val_loss: 42.6143 - val_mean_absolute_error: 42.6143\n",
      "Epoch 97/100\n",
      "510/510 [==============================] - 0s 305us/step - loss: 38.8463 - mean_absolute_error: 38.8463 - val_loss: 42.1714 - val_mean_absolute_error: 42.1714\n",
      "Epoch 98/100\n",
      "510/510 [==============================] - 0s 308us/step - loss: 38.5904 - mean_absolute_error: 38.5904 - val_loss: 42.0668 - val_mean_absolute_error: 42.0668\n",
      "Epoch 99/100\n",
      "510/510 [==============================] - 0s 310us/step - loss: 39.0618 - mean_absolute_error: 39.0618 - val_loss: 43.0260 - val_mean_absolute_error: 43.0260\n",
      "Epoch 100/100\n",
      "510/510 [==============================] - 0s 295us/step - loss: 39.3395 - mean_absolute_error: 39.3395 - val_loss: 43.8688 - val_mean_absolute_error: 43.8688\n"
     ]
    }
   ],
   "source": [
    "NN_model = Sequential()\n",
    "\n",
    "# The Input Layer :\n",
    "NN_model.add(Dense(128, kernel_initializer='normal',input_dim = X_train.shape[1], activation='relu'))\n",
    "\n",
    "# The Hidden Layers :\n",
    "NN_model.add(Dense(256, kernel_initializer='normal',activation='relu'))\n",
    "NN_model.add(Dense(512, kernel_initializer='normal',activation='relu'))\n",
    "NN_model.add(Dense(128, kernel_initializer='normal',activation='relu'))\n",
    "\n",
    "# The Output Layer :\n",
    "NN_model.add(Dense(1, kernel_initializer='normal',activation='linear'))\n",
    "\n",
    "# Compile the network :\n",
    "NN_model.compile(loss='mean_absolute_error', optimizer='adam', metrics=['mean_absolute_error'])\n",
    "NN_model.summary()\n",
    "\n",
    "# Fitting the ANN to the Training set\n",
    "model_history=NN_model.fit(X_train, y_train,validation_split=0.33, batch_size = 10, nb_epoch = 100)"
   ]
  },
  {
   "cell_type": "code",
   "execution_count": 17,
   "metadata": {},
   "outputs": [
    {
     "data": {
      "text/plain": [
       "<matplotlib.axes._subplots.AxesSubplot at 0x1ac9fbfe508>"
      ]
     },
     "execution_count": 17,
     "metadata": {},
     "output_type": "execute_result"
    },
    {
     "data": {
      "image/png": "[encoded data removed]",
      "text/plain": [
       "<Figure size 432x288 with 1 Axes>"
      ]
     },
     "metadata": {
      "needs_background": "light"
     },
     "output_type": "display_data"
    }
   ],
   "source": [
    "prediction=NN_model.predict(X_test)\n",
    "sns.distplot(y_test.values.reshape(-1,1)-prediction)"
   ]
  },
  {
   "cell_type": "markdown",
   "metadata": {},
   "source": [
    "### Error Score"
   ]
  },
  {
   "cell_type": "code",
   "execution_count": 18,
   "metadata": {},
   "outputs": [
    {
     "name": "stdout",
     "output_type": "stream",
     "text": [
      "MAE: 37.553991262142326\n",
      "MSE: 3211.7931299289025\n",
      "RMSE: 56.672684160262804\n"
     ]
    }
   ],
   "source": [
    "from sklearn import metrics\n",
    "print('MAE:', metrics.mean_absolute_error(y_test, prediction))\n",
    "print('MSE:', metrics.mean_squared_error(y_test, prediction))\n",
    "print('RMSE:', np.sqrt(metrics.mean_squared_error(y_test, prediction)))"
   ]
  },
  {
   "cell_type": "code",
   "execution_count": null,
   "metadata": {},
   "outputs": [],
   "source": []
  }
 ],
 "metadata": {
  "kernelspec": {
   "display_name": "Python 3",
   "language": "python",
   "name": "python3"
  },
  "language_info": {
   "codemirror_mode": {
    "name": "ipython",
    "version": 3
   },
   "file_extension": ".py",
   "mimetype": "text/x-python",
   "name": "python",
   "nbconvert_exporter": "python",
   "pygments_lexer": "ipython3",
   "version": "3.7.6"
  }
 },
 "nbformat": 4,
 "nbformat_minor": 4
}
